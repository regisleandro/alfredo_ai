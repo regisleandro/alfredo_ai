{
 "cells": [
  {
   "cell_type": "code",
   "execution_count": 6,
   "metadata": {},
   "outputs": [
    {
     "data": {
      "text/html": [
       "<div>\n",
       "<style scoped>\n",
       "    .dataframe tbody tr th:only-of-type {\n",
       "        vertical-align: middle;\n",
       "    }\n",
       "\n",
       "    .dataframe tbody tr th {\n",
       "        vertical-align: top;\n",
       "    }\n",
       "\n",
       "    .dataframe thead th {\n",
       "        text-align: right;\n",
       "    }\n",
       "</style>\n",
       "<table border=\"1\" class=\"dataframe\">\n",
       "  <thead>\n",
       "    <tr style=\"text-align: right;\">\n",
       "      <th></th>\n",
       "      <th>cd_propriedade</th>\n",
       "      <th>descricao</th>\n",
       "      <th>abreviatura</th>\n",
       "      <th>cidade</th>\n",
       "      <th>proprietario</th>\n",
       "      <th>deposito_padrao</th>\n",
       "      <th>dt_baixa</th>\n",
       "      <th>cd_tanque_padrao</th>\n",
       "      <th>hash_objeto</th>\n",
       "      <th>usuario_criacao_id</th>\n",
       "      <th>updated_at</th>\n",
       "      <th>guid</th>\n",
       "      <th>st_ativo</th>\n",
       "      <th>mapa_url</th>\n",
       "      <th>config</th>\n",
       "    </tr>\n",
       "  </thead>\n",
       "  <tbody>\n",
       "    <tr>\n",
       "      <th>0</th>\n",
       "      <td>1</td>\n",
       "      <td>GERAL</td>\n",
       "      <td>GERAL</td>\n",
       "      <td>None</td>\n",
       "      <td>1</td>\n",
       "      <td>1</td>\n",
       "      <td>None</td>\n",
       "      <td>None</td>\n",
       "      <td>None</td>\n",
       "      <td>None</td>\n",
       "      <td>2022-12-26T08:34:53.000-03:00</td>\n",
       "      <td>6501ccea-5c76-e04b-9213-7c0e15317995</td>\n",
       "      <td>S</td>\n",
       "      <td>None</td>\n",
       "      <td>{'action': 'update', 'gpa_code': '18475', 'mod...</td>\n",
       "    </tr>\n",
       "    <tr>\n",
       "      <th>1</th>\n",
       "      <td>1</td>\n",
       "      <td>GERAL</td>\n",
       "      <td>GERAL</td>\n",
       "      <td>None</td>\n",
       "      <td>1</td>\n",
       "      <td>1</td>\n",
       "      <td>None</td>\n",
       "      <td>None</td>\n",
       "      <td>None</td>\n",
       "      <td>None</td>\n",
       "      <td>2022-12-26T08:34:53.000-03:00</td>\n",
       "      <td>6501ccea-5c76-e04b-9213-7c0e15317995</td>\n",
       "      <td>S</td>\n",
       "      <td>None</td>\n",
       "      <td>{'action': 'update', 'gpa_code': '18475', 'mod...</td>\n",
       "    </tr>\n",
       "  </tbody>\n",
       "</table>\n",
       "</div>"
      ],
      "text/plain": [
       "   cd_propriedade descricao abreviatura cidade  proprietario  deposito_padrao  \\\n",
       "0               1     GERAL       GERAL   None             1                1   \n",
       "1               1     GERAL       GERAL   None             1                1   \n",
       "\n",
       "  dt_baixa cd_tanque_padrao hash_objeto usuario_criacao_id  \\\n",
       "0     None             None        None               None   \n",
       "1     None             None        None               None   \n",
       "\n",
       "                      updated_at                                  guid  \\\n",
       "0  2022-12-26T08:34:53.000-03:00  6501ccea-5c76-e04b-9213-7c0e15317995   \n",
       "1  2022-12-26T08:34:53.000-03:00  6501ccea-5c76-e04b-9213-7c0e15317995   \n",
       "\n",
       "  st_ativo mapa_url                                             config  \n",
       "0        S     None  {'action': 'update', 'gpa_code': '18475', 'mod...  \n",
       "1        S     None  {'action': 'update', 'gpa_code': '18475', 'mod...  "
      ]
     },
     "execution_count": 6,
     "metadata": {},
     "output_type": "execute_result"
    }
   ],
   "source": [
    "import pandas as pd\n",
    "data = [{'cd_propriedade': 1, 'descricao': 'GERAL', 'abreviatura': 'GERAL', 'cidade': None, 'proprietario': 1, 'deposito_padrao': 1, 'dt_baixa': None, 'cd_tanque_padrao': None, 'hash_objeto': None, 'usuario_criacao_id': None, 'updated_at': '2022-12-26T08:34:53.000-03:00', 'guid': '6501ccea-5c76-e04b-9213-7c0e15317995', 'st_ativo': 'S', 'mapa_url': None, 'config': {'action': 'update', 'gpa_code': '18475', 'model': 'Propriedade', 'origin': 'api', 'tenant': 'lomaplata-api'}}, {'cd_propriedade': 1, 'descricao': 'GERAL', 'abreviatura': 'GERAL', 'cidade': None, 'proprietario': 1, 'deposito_padrao': 1, 'dt_baixa': None, 'cd_tanque_padrao': None, 'hash_objeto': None, 'usuario_criacao_id': None, 'updated_at': '2022-12-26T08:34:53.000-03:00', 'guid': '6501ccea-5c76-e04b-9213-7c0e15317995', 'st_ativo': 'S', 'mapa_url': None, 'config': {'action': 'update', 'gpa_code': '18475', 'model': 'Propriedade', 'origin': 'api', 'tenant': 'lomaplata-api'}}]\n",
    "\n",
    "df = pd.DataFrame.from_dict(data)\n",
    "\n",
    "df.head()\n"
   ]
  },
  {
   "cell_type": "code",
   "execution_count": 12,
   "metadata": {},
   "outputs": [
    {
     "data": {
      "text/html": [
       "<div>\n",
       "<style scoped>\n",
       "    .dataframe tbody tr th:only-of-type {\n",
       "        vertical-align: middle;\n",
       "    }\n",
       "\n",
       "    .dataframe tbody tr th {\n",
       "        vertical-align: top;\n",
       "    }\n",
       "\n",
       "    .dataframe thead th {\n",
       "        text-align: right;\n",
       "    }\n",
       "</style>\n",
       "<table border=\"1\" class=\"dataframe\">\n",
       "  <thead>\n",
       "    <tr style=\"text-align: right;\">\n",
       "      <th></th>\n",
       "      <th>action</th>\n",
       "      <th>gpa_code</th>\n",
       "      <th>model</th>\n",
       "      <th>origin</th>\n",
       "      <th>tenant</th>\n",
       "    </tr>\n",
       "  </thead>\n",
       "  <tbody>\n",
       "    <tr>\n",
       "      <th>0</th>\n",
       "      <td>update</td>\n",
       "      <td>18475</td>\n",
       "      <td>Propriedade</td>\n",
       "      <td>api</td>\n",
       "      <td>lomaplata-api</td>\n",
       "    </tr>\n",
       "    <tr>\n",
       "      <th>1</th>\n",
       "      <td>update</td>\n",
       "      <td>18475</td>\n",
       "      <td>Propriedade</td>\n",
       "      <td>api</td>\n",
       "      <td>lomaplata-api</td>\n",
       "    </tr>\n",
       "  </tbody>\n",
       "</table>\n",
       "</div>"
      ],
      "text/plain": [
       "   action gpa_code        model origin         tenant\n",
       "0  update    18475  Propriedade    api  lomaplata-api\n",
       "1  update    18475  Propriedade    api  lomaplata-api"
      ]
     },
     "execution_count": 12,
     "metadata": {},
     "output_type": "execute_result"
    }
   ],
   "source": [
    "config_df = pd.Series(df['config'].values).apply(pd.Series)\n",
    "config_df"
   ]
  },
  {
   "cell_type": "code",
   "execution_count": 19,
   "metadata": {},
   "outputs": [
    {
     "data": {
      "text/html": [
       "<div>\n",
       "<style scoped>\n",
       "    .dataframe tbody tr th:only-of-type {\n",
       "        vertical-align: middle;\n",
       "    }\n",
       "\n",
       "    .dataframe tbody tr th {\n",
       "        vertical-align: top;\n",
       "    }\n",
       "\n",
       "    .dataframe thead th {\n",
       "        text-align: right;\n",
       "    }\n",
       "</style>\n",
       "<table border=\"1\" class=\"dataframe\">\n",
       "  <thead>\n",
       "    <tr style=\"text-align: right;\">\n",
       "      <th></th>\n",
       "      <th></th>\n",
       "      <th></th>\n",
       "      <th></th>\n",
       "      <th>qtde</th>\n",
       "    </tr>\n",
       "    <tr>\n",
       "      <th>gpa_code</th>\n",
       "      <th>model</th>\n",
       "      <th>origin</th>\n",
       "      <th>tenant</th>\n",
       "      <th></th>\n",
       "    </tr>\n",
       "  </thead>\n",
       "  <tbody>\n",
       "    <tr>\n",
       "      <th>18475</th>\n",
       "      <th>Propriedade</th>\n",
       "      <th>api</th>\n",
       "      <th>lomaplata-api</th>\n",
       "      <td>2</td>\n",
       "    </tr>\n",
       "  </tbody>\n",
       "</table>\n",
       "</div>"
      ],
      "text/plain": [
       "                                           qtde\n",
       "gpa_code model       origin tenant             \n",
       "18475    Propriedade api    lomaplata-api     2"
      ]
     },
     "execution_count": 19,
     "metadata": {},
     "output_type": "execute_result"
    }
   ],
   "source": [
    "grouped = config_df.groupby(['gpa_code', 'model', 'origin', 'tenant']).count()\n",
    "grouped.columns = ['qtde']\n",
    "grouped"
   ]
  }
 ],
 "metadata": {
  "kernelspec": {
   "display_name": "Python 3",
   "language": "python",
   "name": "python3"
  },
  "language_info": {
   "codemirror_mode": {
    "name": "ipython",
    "version": 3
   },
   "file_extension": ".py",
   "mimetype": "text/x-python",
   "name": "python",
   "nbconvert_exporter": "python",
   "pygments_lexer": "ipython3",
   "version": "3.11.4"
  }
 },
 "nbformat": 4,
 "nbformat_minor": 2
}
